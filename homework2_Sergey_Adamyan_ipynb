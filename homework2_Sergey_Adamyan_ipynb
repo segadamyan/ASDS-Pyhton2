{
  "nbformat": 4,
  "nbformat_minor": 0,
  "metadata": {
    "colab": {
      "provenance": [],
      "collapsed_sections": [
        "qbGwC-xAS4sd",
        "rxmzdllmT_i8",
        "klJI494GV5i2",
        "uNnNQdmZ82cg",
        "T4doq-rJWocf",
        "huZWfS_V9KK8",
        "I6wKDe9IXNNj",
        "nzDOO-uF9cjP",
        "5Woo0ans-Seh"
      ],
      "authorship_tag": "ABX9TyMqGI7BlvcBOX/0IoiEIpLA",
      "include_colab_link": true
    },
    "kernelspec": {
      "name": "python3",
      "display_name": "Python 3"
    },
    "language_info": {
      "name": "python"
    }
  },
  "cells": [
    {
      "cell_type": "markdown",
      "metadata": {
        "id": "view-in-github",
        "colab_type": "text"
      },
      "source": [
        "<a href=\"https://colab.research.google.com/github/segadamyan/ASDS-Pyhton2/blob/main/homework2_Sergey_Adamyan_ipynb.ipynb\" target=\"_parent\"><img src=\"https://colab.research.google.com/assets/colab-badge.svg\" alt=\"Open In Colab\"/></a>"
      ]
    },
    {
      "cell_type": "code",
      "source": [
        "\"\"\"\n",
        "# Homework 02\n",
        "## Name: Sergey Adamyan\n",
        "\"\"\"\n",
        "\n",
        "import math\n",
        "import time\n",
        "from typing import Any, List, Union, Iterator"
      ],
      "metadata": {
        "id": "e1kzcPhQS2s7"
      },
      "execution_count": 5,
      "outputs": []
    },
    {
      "cell_type": "markdown",
      "source": [
        "# Problem 1: BankAccount"
      ],
      "metadata": {
        "id": "qbGwC-xAS4sd"
      }
    },
    {
      "cell_type": "markdown",
      "source": [
        "• Properties\n",
        "– id: A unique identifier for an account.\n",
        "– name: The full name of a customer.\n",
        "– balance: The balance of an account, which should be 0 by default.\n",
        "Getters and setters should be defined for the properties.\n",
        "• Methods\n",
        "– It should be possible to initialize an instance either with initial balance or without initial balance.\n",
        "– Friendly string representation for an account should be implemented.\n",
        "– deposit(amount): adds the given amount to the current balance.\n",
        "– withdraw(amount): subtracts the given amount from the current\n",
        "balance. If there are insufficient funds, it should raise an error\n",
        "(ValueError can be used).\n",
        "– transfer_to(another_account, amount): transfers the given\n",
        "amount from the current account to the given account. If there are\n",
        "insufficient funds, it should raise an error (ValueError can be used)."
      ],
      "metadata": {
        "id": "m5lVLrN9YrT-"
      }
    },
    {
      "cell_type": "code",
      "execution_count": 6,
      "metadata": {
        "id": "fOIxn7tZSyfm"
      },
      "outputs": [],
      "source": [
        "class BankAccount:\n",
        "    def __init__(self, account_id: int, name: str, balance: float = 0.0) -> None:\n",
        "        self._id = account_id\n",
        "        self._name = name\n",
        "        self._balance = balance\n",
        "\n",
        "    # Getter and setter for id\n",
        "    @property\n",
        "    def id(self) -> int:\n",
        "        return self._id\n",
        "\n",
        "    @id.setter\n",
        "    def id(self, value: int) -> None:\n",
        "        self._id = value\n",
        "\n",
        "    # Getter and setter for name\n",
        "    @property\n",
        "    def name(self) -> str:\n",
        "        return self._name\n",
        "\n",
        "    @name.setter\n",
        "    def name(self, value: str) -> None:\n",
        "        self._name = value\n",
        "\n",
        "    # Getter and setter for balance\n",
        "    @property\n",
        "    def balance(self) -> float:\n",
        "        return self._balance\n",
        "\n",
        "    @balance.setter\n",
        "    def balance(self, value: float) -> None:\n",
        "        self._balance = value\n",
        "\n",
        "    def __str__(self) -> str:\n",
        "        return f'BankAccount(id={self.id}, name={self.name!r}, balance={self.balance})'\n",
        "\n",
        "    def deposit(self, amount: float) -> None:\n",
        "        if amount < 0:\n",
        "            raise ValueError(\"Deposit amount cannot be negative.\")\n",
        "        self._balance += amount\n",
        "\n",
        "    def withdraw(self, amount: float) -> None:\n",
        "        if amount < 0:\n",
        "            raise ValueError(\"Withdrawal amount cannot be negative.\")\n",
        "        if amount > self._balance:\n",
        "            raise ValueError(\"Insufficient funds.\")\n",
        "        self._balance -= amount\n",
        "\n",
        "    def transfer_to(self, another_account: \"BankAccount\", amount: float) -> None:\n",
        "        if amount < 0:\n",
        "            raise ValueError(\"Transfer amount cannot be negative.\")\n",
        "        if amount > self._balance:\n",
        "            raise ValueError(\"Insufficient funds for transfer.\")\n",
        "        self.withdraw(amount)\n",
        "        another_account.deposit(amount)"
      ]
    },
    {
      "cell_type": "markdown",
      "source": [
        "## Testing Problem 1"
      ],
      "metadata": {
        "id": "3qBNHYLk5UGR"
      }
    },
    {
      "cell_type": "code",
      "source": [
        "account_1 = BankAccount(1, \"John Doe\")\n",
        "account_2 = BankAccount(2, \"Jane Dane\", 1000)\n",
        "\n",
        "print(account_1)  # Expected: BankAccount(id=1, name=\"John Doe\", balance=0)\n",
        "print(account_2)  # Expected: BankAccount(id=2, name=\"Jane Dane\", balance=1000)\n",
        "\n",
        "account_1.deposit(500)\n",
        "print(account_1)  # Expected: BankAccount(id=1, name=\"John Doe\", balance=500)\n",
        "\n",
        "try:\n",
        "    account_1.withdraw(600)  # Should raise error (insufficient funds)\n",
        "except ValueError as e:\n",
        "    print(e)\n",
        "\n",
        "account_2.transfer_to(account_1, 250)\n",
        "print(account_1)  # Expected: BankAccount(id=1, name=\"John Doe\", balance=750)\n",
        "print(account_2)  # Expected: BankAccount(id=2, name=\"Jane Dane\", balance=750)\n",
        "\n",
        "try:\n",
        "    account_2.transfer_to(account_1, 800)  # Should raise error\n",
        "except ValueError as e:\n",
        "    print(e)"
      ],
      "metadata": {
        "colab": {
          "base_uri": "https://localhost:8080/"
        },
        "id": "ivqh3e8X5YxR",
        "outputId": "b355f8a8-84eb-40f3-916b-9b6cda4ff56a"
      },
      "execution_count": 7,
      "outputs": [
        {
          "output_type": "stream",
          "name": "stdout",
          "text": [
            "BankAccount(id=1, name='John Doe', balance=0.0)\n",
            "BankAccount(id=2, name='Jane Dane', balance=1000)\n",
            "BankAccount(id=1, name='John Doe', balance=500.0)\n",
            "Insufficient funds.\n",
            "BankAccount(id=1, name='John Doe', balance=750.0)\n",
            "BankAccount(id=2, name='Jane Dane', balance=750)\n",
            "Insufficient funds for transfer.\n"
          ]
        }
      ]
    },
    {
      "cell_type": "markdown",
      "source": [
        "# Problem 2: Shape, Circle, and Rectangle"
      ],
      "metadata": {
        "id": "rxmzdllmT_i8"
      }
    },
    {
      "cell_type": "markdown",
      "source": [
        "• The Shape class should consist of the following components:\n",
        "– Properties\n",
        "∗ color: A color that indicates the color of a shape.\n",
        "∗ is_filled: A boolean flag that indicates if a shape is filled or\n",
        "not.\n",
        "Getters and setters should be defined for the properties.\n",
        "– Methods\n",
        "∗ It should be possible to initialize an instance by providing a color\n",
        "and whether the shape is filled or not.\n",
        "∗ Friendly string representation for a shape should be implemented.\n",
        "∗ calculate_area(): It should raise an error (NotImplementedError\n",
        "can be used).\n",
        "∗ calculate_perimeter(): It should raise an error (NotImplementedError\n",
        "can be used).\n",
        "• The Circle class derives from the Shape class and should consist of the\n",
        "following components:\n",
        "– Properties\n",
        "∗ radius: The circle’s radius.\n",
        "Getters and setters should be defined for the properties.\n",
        "– Methods\n",
        "∗ It should be possible to initialize an instance by providing a\n",
        "radius, a color, and whether the circle is filled or not.\n",
        "∗ Friendly string representation for a circle should be implemented.\n",
        "∗ calculate_area(): It should return the area of a circle.\n",
        "∗ calculate_perimeter(): It should return the perimeter of a\n",
        "circle.\n",
        "• The Rectangle class derives from the Shape class and should consist of\n",
        "the following components:\n",
        "– Properties\n",
        "∗ width: The rectangle’s width.\n",
        "∗ length: The rectangle’s length.\n",
        "Getters and setters should be defined for the properties.\n",
        "– Methods\n",
        "∗ It should be possible to initialize an instance by providing a\n",
        "width, length, a color, and whether the circle is filled or not.\n",
        "∗ Friendly string representation for a rectangle should be implemented.\n",
        "∗ calculate_area(): It should return the area of a rectangle.\n",
        "∗ calculate_per"
      ],
      "metadata": {
        "id": "ill88gF4dE4c"
      }
    },
    {
      "cell_type": "code",
      "source": [
        "class Shape:\n",
        "    def __init__(self, color: str, is_filled: bool) -> None:\n",
        "        self._color = color\n",
        "        self._is_filled = is_filled\n",
        "\n",
        "    @property\n",
        "    def color(self) -> str:\n",
        "        return self._color\n",
        "\n",
        "    @color.setter\n",
        "    def color(self, value: str) -> None:\n",
        "        self._color = value\n",
        "\n",
        "    @property\n",
        "    def is_filled(self) -> bool:\n",
        "        return self._is_filled\n",
        "\n",
        "    @is_filled.setter\n",
        "    def is_filled(self, value: bool) -> None:\n",
        "        self._is_filled = value\n",
        "\n",
        "    def __str__(self) -> str:\n",
        "        return f'Shape(color={self.color!r}, is_filled={self.is_filled})'\n",
        "\n",
        "    def calculate_area(self) -> float:\n",
        "        raise NotImplementedError(\"calculate_area() is not implemented for base Shape.\")\n",
        "\n",
        "    def calculate_perimeter(self) -> float:\n",
        "        raise NotImplementedError(\"calculate_perimeter() is not implemented for base Shape.\")\n",
        "\n",
        "\n",
        "class Circle(Shape):\n",
        "    def __init__(self, color: str, is_filled: bool, radius: float) -> None:\n",
        "        super().__init__(color, is_filled)\n",
        "        self._radius = radius\n",
        "\n",
        "    @property\n",
        "    def radius(self) -> float:\n",
        "        return self._radius\n",
        "\n",
        "    @radius.setter\n",
        "    def radius(self, value: float) -> None:\n",
        "        self._radius = value\n",
        "\n",
        "    def __str__(self) -> str:\n",
        "        return f'Circle(color={self.color!r}, is_filled={self.is_filled}, radius={self.radius})'\n",
        "\n",
        "    def calculate_area(self) -> float:\n",
        "        return math.pi * self.radius ** 2\n",
        "\n",
        "    def calculate_perimeter(self) -> float:\n",
        "        return 2 * math.pi * self.radius\n",
        "\n",
        "\n",
        "class Rectangle(Shape):\n",
        "    def __init__(self, color: str, is_filled: bool, width: float, length: float) -> None:\n",
        "        super().__init__(color, is_filled)\n",
        "        self._width = width\n",
        "        self._length = length\n",
        "\n",
        "    @property\n",
        "    def width(self) -> float:\n",
        "        return self._width\n",
        "\n",
        "    @width.setter\n",
        "    def width(self, value: float) -> None:\n",
        "        self._width = value\n",
        "\n",
        "    @property\n",
        "    def length(self) -> float:\n",
        "        return self._length\n",
        "\n",
        "    @length.setter\n",
        "    def length(self, value: float) -> None:\n",
        "        self._length = value\n",
        "\n",
        "    def __str__(self) -> str:\n",
        "        return f'Rectangle(color={self.color!r}, is_filled={self.is_filled}, width={self.width}, length={self.length})'\n",
        "\n",
        "    def calculate_area(self) -> float:\n",
        "        return self.width * self.length\n",
        "\n",
        "    def calculate_perimeter(self) -> float:\n",
        "        return 2 * (self.width + self.length)"
      ],
      "metadata": {
        "colab": {
          "base_uri": "https://localhost:8080/"
        },
        "id": "WT5fE1YvTXZk",
        "outputId": "f27daba2-2ab8-4b92-a0ff-2cbdda8cdcc8"
      },
      "execution_count": 8,
      "outputs": [
        {
          "output_type": "stream",
          "name": "stdout",
          "text": [
            "Shape(color='red', is_filled=True)\n",
            "calculate_area() is not implemented for base Shape.\n",
            "calculate_perimeter() is not implemented for base Shape.\n",
            "Circle(color='black', is_filled=False, radius=3)\n",
            "28.27\n",
            "18.85\n",
            "Rectangle(color='green', is_filled=True, width=3, length=4)\n",
            "12\n",
            "14\n"
          ]
        }
      ]
    },
    {
      "cell_type": "markdown",
      "source": [
        "## Testing Problem 2"
      ],
      "metadata": {
        "id": "iMZtWA8M8ZCd"
      }
    },
    {
      "cell_type": "code",
      "source": [
        "shape = Shape(\"red\", True)\n",
        "print(shape)  # Expected: Shape(color=\"red\", is_filled=True)\n",
        "try:\n",
        "    shape.calculate_area()\n",
        "except NotImplementedError as e:\n",
        "    print(e)\n",
        "try:\n",
        "    shape.calculate_perimeter()\n",
        "except NotImplementedError as e:\n",
        "    print(e)\n",
        "\n",
        "circle = Circle(\"black\", False, 3)\n",
        "print(circle)  # Expected: Circle(color=\"black\", is_filled=False, radius=3)\n",
        "print(f\"{circle.calculate_area():.2f}\")      # Approximately 28.27\n",
        "print(f\"{circle.calculate_perimeter():.2f}\")   # Approximately 18.85\n",
        "\n",
        "rectangle = Rectangle(\"green\", True, 3, 4)\n",
        "print(rectangle)  # Expected: Rectangle(color=\"green\", is_filled=True, width=3, length=4)\n",
        "print(rectangle.calculate_area())       # 12\n",
        "print(rectangle.calculate_perimeter())  # 14\n"
      ],
      "metadata": {
        "colab": {
          "base_uri": "https://localhost:8080/"
        },
        "id": "5Dh_yUPd8c7L",
        "outputId": "9e227ad1-fdab-497c-a32e-9cf2bdcb08d7"
      },
      "execution_count": 10,
      "outputs": [
        {
          "output_type": "stream",
          "name": "stdout",
          "text": [
            "Shape(color='red', is_filled=True)\n",
            "calculate_area() is not implemented for base Shape.\n",
            "calculate_perimeter() is not implemented for base Shape.\n",
            "Circle(color='black', is_filled=False, radius=3)\n",
            "28.27\n",
            "18.85\n",
            "Rectangle(color='green', is_filled=True, width=3, length=4)\n",
            "12\n",
            "14\n"
          ]
        }
      ]
    },
    {
      "cell_type": "markdown",
      "source": [
        "# Problem 3: Point and Triangle"
      ],
      "metadata": {
        "id": "klJI494GV5i2"
      }
    },
    {
      "cell_type": "markdown",
      "source": [
        "The Point class should consist of the following components:\n",
        "– Properties\n",
        "∗ x: The x-coordinate of a point.\n",
        "∗ y: The y-coordinate of a point.\n",
        "Getters and setters should be defined for the properties.\n",
        "– Methods\n",
        "∗ It should be possible to initialize an instance by providing x and\n",
        "y coordinates.\n",
        "∗ Friendly string representation for a point should be implemented.\n",
        "∗ get_xy(): It should return a tuple of x and y coordinates.\n",
        "∗ set_xy(x, y): It should change the x and y coordinates.\n",
        "∗ distance_from_coordinates(x, y): It should return the Euclidean distance between the current point and the point at (x,\n",
        "y).\n",
        "∗ distance_from_point(another_point): It should return the\n",
        "Euclidean distance between the current point and the other\n",
        "point.\n",
        "∗ abs(): Point’s absolute value should return the Euclidean distance of the point from the origin.\n",
        "• The Triangle class should consist of the following components:\n",
        "– Properties\n",
        "∗ vertex1: The first vertex of a triangle modelled by Point.\n",
        "∗ vertex2: The second vertex of a triangle modelled by Point.\n",
        "∗ vertex3: The third vertex of a triangle modelled by Point.\n",
        "Getters and setters are not needed for the properties.\n",
        "– Methods\n",
        "∗ It should be possible to initialize an instance by providing x\n",
        "and y coordinates for all three vertices. Optionally, a feature to\n",
        "initialize an instance by three Point objects can be added.\n",
        "∗ Friendly string representation for a triangle should be implemented.\n",
        "∗ calculate_perimeter(): It should return the perimeter of a\n",
        "triangle.\n",
        "∗ get_type(): It should return the type of a triangle (equilateral,\n",
        "isosceles or scalene)."
      ],
      "metadata": {
        "id": "4X_bB4BI8qVu"
      }
    },
    {
      "cell_type": "code",
      "source": [
        "class Point:\n",
        "    def __init__(self, x: float, y: float) -> None:\n",
        "        self._x = x\n",
        "        self._y = y\n",
        "\n",
        "    @property\n",
        "    def x(self) -> float:\n",
        "        return self._x\n",
        "\n",
        "    @x.setter\n",
        "    def x(self, value: float) -> None:\n",
        "        self._x = value\n",
        "\n",
        "    @property\n",
        "    def y(self) -> float:\n",
        "        return self._y\n",
        "\n",
        "    @y.setter\n",
        "    def y(self, value: float) -> None:\n",
        "        self._y = value\n",
        "\n",
        "    def __str__(self) -> str:\n",
        "        return f'Point(x={self.x}, y={self.y})'\n",
        "\n",
        "    def get_xy(self) -> tuple[float, float]:\n",
        "        return (self.x, self.y)\n",
        "\n",
        "    def set_xy(self, x: float, y: float) -> None:\n",
        "        self._x = x\n",
        "        self._y = y\n",
        "\n",
        "    def distance_from_coordinates(self, x: float, y: float) -> float:\n",
        "        return math.hypot(self.x - x, self.y - y)\n",
        "\n",
        "    def distance_from_point(self, another_point: \"Point\") -> float:\n",
        "        return self.distance_from_coordinates(another_point.x, another_point.y)\n",
        "\n",
        "    def __abs__(self) -> float:\n",
        "        return math.hypot(self.x, self.y)\n",
        "\n",
        "\n",
        "class Triangle:\n",
        "    def __init__(self, *args: Any) -> None:\n",
        "        # Allow initialization with six numeric coordinates or three Point objects.\n",
        "        if len(args) == 6 and all(isinstance(arg, (int, float)) for arg in args):\n",
        "            self.vertex1 = Point(args[0], args[1])\n",
        "            self.vertex2 = Point(args[2], args[3])\n",
        "            self.vertex3 = Point(args[4], args[5])\n",
        "        elif len(args) == 3 and all(isinstance(arg, Point) for arg in args):\n",
        "            self.vertex1, self.vertex2, self.vertex3 = args\n",
        "        else:\n",
        "            raise ValueError(\"Invalid arguments for Triangle initialization.\")\n",
        "        if self._is_collinear():\n",
        "            raise ValueError(\"No such triangle exists (points are collinear).\")\n",
        "\n",
        "    def _is_collinear(self) -> bool:\n",
        "        # Check collinearity using the area (shoelace formula)\n",
        "        x1, y1 = self.vertex1.get_xy()\n",
        "        x2, y2 = self.vertex2.get_xy()\n",
        "        x3, y3 = self.vertex3.get_xy()\n",
        "        area = abs(x1*(y2-y3) + x2*(y3-y1) + x3*(y1-y2)) / 2\n",
        "        return area == 0\n",
        "\n",
        "    def __str__(self) -> str:\n",
        "        return f'Triangle(vertex1={self.vertex1}, vertex2={self.vertex2}, vertex3={self.vertex3})'\n",
        "\n",
        "    def calculate_perimeter(self) -> float:\n",
        "        d1 = self.vertex1.distance_from_point(self.vertex2)\n",
        "        d2 = self.vertex2.distance_from_point(self.vertex3)\n",
        "        d3 = self.vertex3.distance_from_point(self.vertex1)\n",
        "        return d1 + d2 + d3\n",
        "\n",
        "    def get_type(self) -> str:\n",
        "        d1 = self.vertex1.distance_from_point(self.vertex2)\n",
        "        d2 = self.vertex2.distance_from_point(self.vertex3)\n",
        "        d3 = self.vertex3.distance_from_point(self.vertex1)\n",
        "        tol = 1e-6\n",
        "        equal = lambda a, b: abs(a - b) < tol\n",
        "        if equal(d1, d2) and equal(d2, d3):\n",
        "            return \"equilateral\"\n",
        "        elif equal(d1, d2) or equal(d2, d3) or equal(d1, d3):\n",
        "            return \"isosceles\"\n",
        "        else:\n",
        "            return \"scalene\""
      ],
      "metadata": {
        "id": "PIdv2XMjVMwU"
      },
      "execution_count": 11,
      "outputs": []
    },
    {
      "cell_type": "markdown",
      "source": [
        "## Testing Problem 3"
      ],
      "metadata": {
        "id": "uNnNQdmZ82cg"
      }
    },
    {
      "cell_type": "code",
      "source": [
        "point1 = Point(1, 2)\n",
        "point2 = Point(1, 2)\n",
        "print(point2)               # Expected: Point(x=1, y=2)\n",
        "print(point2.get_xy())      # Expected: (1, 2)\n",
        "point2.set_xy(3, 4)\n",
        "print(point2)               # Expected: Point(x=3, y=4)\n",
        "print(f\"{point1.distance_from_coordinates(3, 4):.2f}\")  # Approximately 2.83\n",
        "print(f\"{point1.distance_from_point(point2):.2f}\")        # Approximately 2.83\n",
        "print(f\"{abs(point1):.2f}\")  # Approximately 2.24\n",
        "print(f\"{abs(point2):.2f}\")  # 5.00\n",
        "\n",
        "try:\n",
        "    triangle = Triangle(0, 0, 1, 1, 2, 2)  # Should raise error (collinear points)\n",
        "except ValueError as e:\n",
        "    print(e)\n",
        "\n",
        "triangle = Triangle(0, 0, 0, 4, 2, 0)\n",
        "print(triangle)  # Expected: Triangle with vertices (0,0), (0,4), (2,0)\n",
        "print(f\"{triangle.calculate_perimeter():.2f}\")  # Approximately 10.47\n",
        "print(triangle.get_type())  # Expected: scalene"
      ],
      "metadata": {
        "colab": {
          "base_uri": "https://localhost:8080/"
        },
        "id": "YR9Y1Y8485We",
        "outputId": "e46034be-248a-44ac-f310-b294f0b34d5d"
      },
      "execution_count": 12,
      "outputs": [
        {
          "output_type": "stream",
          "name": "stdout",
          "text": [
            "Point(x=1, y=2)\n",
            "(1, 2)\n",
            "Point(x=3, y=4)\n",
            "2.83\n",
            "2.83\n",
            "2.24\n",
            "5.00\n",
            "No such triangle exists (points are collinear).\n",
            "Triangle(vertex1=Point(x=0, y=0), vertex2=Point(x=0, y=4), vertex3=Point(x=2, y=0))\n",
            "10.47\n",
            "scalene\n"
          ]
        }
      ]
    },
    {
      "cell_type": "markdown",
      "source": [
        "# Problem 4: Complex Number Class"
      ],
      "metadata": {
        "id": "T4doq-rJWocf"
      }
    },
    {
      "cell_type": "markdown",
      "source": [
        "Write a Complex class in Python. The class should consist of the following\n",
        "components:\n",
        "• Properties\n",
        "– real: The real part of a complex number.\n",
        "– imaginary: The imaginary part of a complex number.\n",
        "Getters and setters are not required.\n",
        "• Methods\n",
        "– It should be possible to initialize an instance by providing real and\n",
        "imaginary parts of a complex number.\n",
        "– Friendly string representation for a complex number should be implemented.\n",
        "– +: Addition of two complex numbers should be implemented. Also,\n",
        "it should be possible to add a scalar number to a complex number.\n",
        "– -: Subtraction of two complex numbers should be implemented. Also,\n",
        "it should be possible to subtract a scalar number from a complex\n",
        "number.\n",
        "– *: Multiplication two complex numbers should be implemented. Also,\n",
        "it should be possible to multiply a complex number by a scalar number.\n",
        "– **: Exponentiation of a complex number to an integer power should\n",
        "be implemented.\n",
        "– /: Division of two complex numbers should be implemented.\n",
        "– ==: Equality checks if two complex numbers are equal.\n",
        "– abs(): Absolute value of a complex number should return the magnitude of a complex number."
      ],
      "metadata": {
        "id": "QcmatGju9Fbl"
      }
    },
    {
      "cell_type": "code",
      "source": [
        "class Complex:\n",
        "    def __init__(self, real: float, imaginary: float) -> None:\n",
        "        self.real = real\n",
        "        self.imaginary = imaginary\n",
        "\n",
        "    def __str__(self) -> str:\n",
        "        return f'Complex(real={self.real}, imaginary={self.imaginary})'\n",
        "\n",
        "    def __add__(self, other: Union[\"Complex\", int, float]) -> \"Complex\":\n",
        "        if isinstance(other, Complex):\n",
        "            return Complex(self.real + other.real, self.imaginary + other.imaginary)\n",
        "        elif isinstance(other, (int, float)):\n",
        "            return Complex(self.real + other, self.imaginary)\n",
        "        return NotImplemented\n",
        "\n",
        "    def __radd__(self, other: Union[int, float]) -> \"Complex\":\n",
        "        return self.__add__(other)\n",
        "\n",
        "    def __sub__(self, other: Union[\"Complex\", int, float]) -> \"Complex\":\n",
        "        if isinstance(other, Complex):\n",
        "            return Complex(self.real - other.real, self.imaginary - other.imaginary)\n",
        "        elif isinstance(other, (int, float)):\n",
        "            return Complex(self.real - other, self.imaginary)\n",
        "        return NotImplemented\n",
        "\n",
        "    def __rsub__(self, other: Union[int, float]) -> \"Complex\":\n",
        "        if isinstance(other, (int, float)):\n",
        "            return Complex(other - self.real, -self.imaginary)\n",
        "        return NotImplemented\n",
        "\n",
        "    def __mul__(self, other: Union[\"Complex\", int, float]) -> \"Complex\":\n",
        "        if isinstance(other, Complex):\n",
        "            real_part = self.real * other.real - self.imaginary * other.imaginary\n",
        "            imaginary_part = self.real * other.imaginary + self.imaginary * other.real\n",
        "            return Complex(real_part, imaginary_part)\n",
        "        elif isinstance(other, (int, float)):\n",
        "            return Complex(self.real * other, self.imaginary * other)\n",
        "        return NotImplemented\n",
        "\n",
        "    def __rmul__(self, other: Union[int, float]) -> \"Complex\":\n",
        "        return self.__mul__(other)\n",
        "\n",
        "    def __truediv__(self, other: \"Complex\") -> \"Complex\":\n",
        "        if isinstance(other, Complex):\n",
        "            denominator = other.real**2 + other.imaginary**2\n",
        "            if denominator == 0:\n",
        "                raise ZeroDivisionError(\"division by zero\")\n",
        "            real_part = (self.real * other.real + self.imaginary * other.imaginary) / denominator\n",
        "            imaginary_part = (self.imaginary * other.real - self.real * other.imaginary) / denominator\n",
        "            # Round results to two decimals as in the example\n",
        "            return Complex(round(real_part, 2), round(imaginary_part, 2))\n",
        "        return NotImplemented\n",
        "\n",
        "    def __pow__(self, power: int) -> \"Complex\":\n",
        "        if not isinstance(power, int):\n",
        "            raise ValueError(\"Exponent must be an integer.\")\n",
        "        result = Complex(1, 0)\n",
        "        if power < 0:\n",
        "            base = Complex(1, 0) / self\n",
        "            power = -power\n",
        "        else:\n",
        "            base = Complex(self.real, self.imaginary)\n",
        "        for _ in range(power):\n",
        "            result = result * base\n",
        "        return result\n",
        "\n",
        "    def __eq__(self, other: Any) -> bool:\n",
        "        if isinstance(other, Complex):\n",
        "            return math.isclose(self.real, other.real, abs_tol=1e-6) and math.isclose(self.imaginary, other.imaginary, abs_tol=1e-6)\n",
        "        return False\n",
        "\n",
        "    def __abs__(self) -> float:\n",
        "        return math.hypot(self.real, self.imaginary)\n"
      ],
      "metadata": {
        "colab": {
          "base_uri": "https://localhost:8080/"
        },
        "id": "b6KIDwa_Vig1",
        "outputId": "8210e3d9-db72-4873-8106-e12ca636e7b4"
      },
      "execution_count": 13,
      "outputs": [
        {
          "output_type": "stream",
          "name": "stdout",
          "text": [
            "Complex(real=1, imaginary=2)\n",
            "Complex(real=4, imaginary=6)\n",
            "Complex(real=6, imaginary=2)\n",
            "Complex(real=6, imaginary=2)\n",
            "Complex(real=-2, imaginary=-2)\n",
            "Complex(real=-4, imaginary=2)\n",
            "Complex(real=4, imaginary=-2)\n",
            "Complex(real=-5, imaginary=10)\n",
            "Complex(real=5, imaginary=10)\n",
            "Complex(real=5, imaginary=10)\n",
            "Complex(real=0.44, imaginary=0.08)\n",
            "Complex(real=-3, imaginary=4)\n",
            "False\n",
            "True\n",
            "2.2361\n"
          ]
        }
      ]
    },
    {
      "cell_type": "markdown",
      "source": [
        "## Testing Problem 4"
      ],
      "metadata": {
        "id": "huZWfS_V9KK8"
      }
    },
    {
      "cell_type": "code",
      "source": [
        "c1 = Complex(1, 2)\n",
        "c2 = Complex(3, 4)\n",
        "c3 = Complex(1, 2)\n",
        "\n",
        "print(c1)         # Expected: Complex(real=1, imaginary=2)\n",
        "print(c1 + c2)    # Expected: Complex(real=4, imaginary=6)\n",
        "print(c1 + 5)     # Expected: Complex(real=6, imaginary=2)\n",
        "print(5 + c1)     # Expected: Complex(real=6, imaginary=2)\n",
        "print(c1 - c2)    # Expected: Complex(real=-2, imaginary=-2)\n",
        "print(c1 - 5)     # Expected: Complex(real=-4, imaginary=2)\n",
        "print(5 - c1)     # Expected: Complex(real=4, imaginary=-2)\n",
        "print(c1 * c2)    # Expected: Complex(real=-5, imaginary=10)\n",
        "print(c1 * 5)     # Expected: Complex(real=5, imaginary=10)\n",
        "print(5 * c1)     # Expected: Complex(real=5, imaginary=10)\n",
        "print(c1 / c2)    # Expected: Complex(real=0.44, imaginary=0.08)\n",
        "print(c1 ** 2)    # Expected: Complex(real=-3, imaginary=4)\n",
        "print(c1 == c2)   # Expected: False\n",
        "print(c1 == c3)   # Expected: True\n",
        "print(f\"{abs(c1):.4f}\")  # Approximately 2.2361\n"
      ],
      "metadata": {
        "colab": {
          "base_uri": "https://localhost:8080/"
        },
        "id": "UQCzIHPw9N6G",
        "outputId": "fbcae06b-f594-4dda-886d-2bdf2f9924eb"
      },
      "execution_count": 14,
      "outputs": [
        {
          "output_type": "stream",
          "name": "stdout",
          "text": [
            "Complex(real=1, imaginary=2)\n",
            "Complex(real=4, imaginary=6)\n",
            "Complex(real=6, imaginary=2)\n",
            "Complex(real=6, imaginary=2)\n",
            "Complex(real=-2, imaginary=-2)\n",
            "Complex(real=-4, imaginary=2)\n",
            "Complex(real=4, imaginary=-2)\n",
            "Complex(real=-5, imaginary=10)\n",
            "Complex(real=5, imaginary=10)\n",
            "Complex(real=5, imaginary=10)\n",
            "Complex(real=0.44, imaginary=0.08)\n",
            "Complex(real=-3, imaginary=4)\n",
            "False\n",
            "True\n",
            "2.2361\n"
          ]
        }
      ]
    },
    {
      "cell_type": "markdown",
      "source": [
        "# Problem 5: WordList Class"
      ],
      "metadata": {
        "id": "I6wKDe9IXNNj"
      }
    },
    {
      "cell_type": "markdown",
      "source": [
        "Write a WordList class in Python, which stores a list of words. The class should\n",
        "consist of the following components:\n",
        "• Properties\n",
        "– words: A list containing words as strings.\n",
        "Getters and setters are not required.\n",
        "• Methods\n",
        "– The class should allow initialization by providing a list of words.\n",
        "– A friendly string representation should be implemented that displays\n",
        "the words in a readable format.\n",
        "– +: Concatenation of two WordList objects should be implemented.\n",
        "– +=: In-place concatenation should be supported, where words from\n",
        "another WordList are appended to the current instance.\n",
        "– *: Overload the * operator for repetition.\n",
        "– len(): Overload len() to return the number of words in the\n",
        "WordList.\n",
        "– in: Overload the in operator to check if a word is present in the\n",
        "WordList.\n",
        "– []: Overload indexing ([]) to access words by their index (0-based)\n",
        "and slicing.\n",
        "∗ Implement both getting and setting of words for indexing.\n",
        "∗ Return a new WordList object containing the sliced words for\n",
        "slicing.\n",
        "– del: Overload del to allow deletion of a word at a specific index.\n",
        "– reversed(): Overload the reversed() built-in function that yields\n",
        "words in the reverse order.\n",
        "– sorted(): Overload the necessary method to allow sorting of\n",
        "WordList objects lexicographically.\n",
        "– iter(): Make WordList iterable. It should be possible to iterate\n",
        "over the words of the list."
      ],
      "metadata": {
        "id": "Hmr1_8EC9aiX"
      }
    },
    {
      "cell_type": "code",
      "source": [
        "class WordList:\n",
        "    def __init__(self, words: List[str]) -> None:\n",
        "        self.words = words[:]  # create a shallow copy\n",
        "\n",
        "    def __str__(self) -> str:\n",
        "        return f'WordList({self.words})'\n",
        "\n",
        "    def __add__(self, other: \"WordList\") -> \"WordList\":\n",
        "        if isinstance(other, WordList):\n",
        "            return WordList(self.words + other.words)\n",
        "        return NotImplemented\n",
        "\n",
        "    def __iadd__(self, other: \"WordList\") -> \"WordList\":\n",
        "        if isinstance(other, WordList):\n",
        "            self.words += other.words\n",
        "            return self\n",
        "        return NotImplemented\n",
        "\n",
        "    def __mul__(self, n: int) -> \"WordList\":\n",
        "        if isinstance(n, int):\n",
        "            return WordList(self.words * n)\n",
        "        return NotImplemented\n",
        "\n",
        "    def __rmul__(self, n: int) -> \"WordList\":\n",
        "        return self.__mul__(n)\n",
        "\n",
        "    def __len__(self) -> int:\n",
        "        return len(self.words)\n",
        "\n",
        "    def __contains__(self, word: str) -> bool:\n",
        "        return word in self.words\n",
        "\n",
        "    def __getitem__(self, index: Union[int, slice]) -> Union[str, \"WordList\"]:\n",
        "        result = self.words[index]\n",
        "        if isinstance(index, slice):\n",
        "            return WordList(result)\n",
        "        return result\n",
        "\n",
        "    def __setitem__(self, index: Union[int, slice], value: Union[str, List[str]]) -> None:\n",
        "        self.words[index] = value\n",
        "\n",
        "    def __delitem__(self, index: int) -> None:\n",
        "        del self.words[index]\n",
        "\n",
        "    def __reversed__(self) -> Iterator[str]:\n",
        "        return reversed(self.words)\n",
        "\n",
        "    def __iter__(self) -> Iterator[str]:\n",
        "        return iter(self.words)\n",
        "\n",
        "    def __lt__(self, other: \"WordList\") -> bool:\n",
        "        # For lexicographical comparison of the word lists\n",
        "        if isinstance(other, WordList):\n",
        "            return self.words < other.words\n",
        "        return NotImplemented"
      ],
      "metadata": {
        "id": "C4JwVV66XLyK"
      },
      "execution_count": 16,
      "outputs": []
    },
    {
      "cell_type": "markdown",
      "source": [
        "## Testing Problem 5"
      ],
      "metadata": {
        "id": "nzDOO-uF9cjP"
      }
    },
    {
      "cell_type": "code",
      "source": [
        "list1 = WordList([\"hello\", \"world\"])\n",
        "list2 = WordList([\"python\", \"programming\"])\n",
        "\n",
        "print(list1)                   # Expected: WordList([\"hello\", \"world\"])\n",
        "print(list1 + list2)           # Expected: WordList([\"hello\", \"world\", \"python\", \"programming\"])\n",
        "\n",
        "list1 += list2\n",
        "print(list1)                   # Expected: WordList([\"hello\", \"world\", \"python\", \"programming\"])\n",
        "print(len(list1))              # Expected: 4\n",
        "print(\"hello\" in list1)        # Expected: True\n",
        "print(list1[1])                # Expected: \"world\"\n",
        "print(list1[1:3])              # Expected: WordList([\"world\", \"python\"])\n",
        "\n",
        "list1[0] = \"hi\"\n",
        "del list1[1]\n",
        "print(list1)  # Expected: WordList([\"hi\", \"python\", \"programming\"])\n",
        "\n",
        "for word in list1:\n",
        "    print(word, end=\" \")       # Expected output: hi python programming\n",
        "print()\n",
        "\n",
        "for word in reversed(list1):\n",
        "    print(word, end=\" \")       # Expected output: programming python hi\n",
        "print()\n",
        "\n",
        "sorted_lists = sorted([\n",
        "    WordList([\"def\", \"ghi\"]),\n",
        "    WordList([\"abc\", \"123\"])\n",
        "])\n",
        "for word_list in sorted_lists:\n",
        "    print(word_list, end=\" \")  # Expected sorted order based on lexicographic comparison\n",
        "\n",
        "print()"
      ],
      "metadata": {
        "colab": {
          "base_uri": "https://localhost:8080/"
        },
        "id": "oB2lK9MS9g7g",
        "outputId": "c0c5954e-1909-4c03-bede-29d1e79996a7"
      },
      "execution_count": 18,
      "outputs": [
        {
          "output_type": "stream",
          "name": "stdout",
          "text": [
            "WordList(['hello', 'world'])\n",
            "WordList(['hello', 'world', 'python', 'programming'])\n",
            "WordList(['hello', 'world', 'python', 'programming'])\n",
            "4\n",
            "True\n",
            "world\n",
            "WordList(['world', 'python'])\n",
            "WordList(['hi', 'python', 'programming'])\n",
            "hi python programming \n",
            "programming python hi \n",
            "WordList(['abc', '123']) WordList(['def', 'ghi']) \n"
          ]
        }
      ]
    },
    {
      "cell_type": "markdown",
      "source": [
        "# Problem 6: Retry Context Manager"
      ],
      "metadata": {
        "id": "FSr7gjm7YDTj"
      }
    },
    {
      "cell_type": "markdown",
      "source": [
        "You want to automatically retry a block of code a certain number of times if it\n",
        "raises a specific exception (or any exception), with a delay between retries.\n",
        "Create a context manager Retry(max_retries=3, delay=1, exceptions=(Exception,))\n",
        "that:\n",
        "• Takes parameters for maximum retry attempts, delay in seconds between\n",
        "retries, and a tuple of exception types to catch and retry on (default to\n",
        "Exception for any exception).\n",
        "• Enters a with block and executes the code inside.\n",
        "• If an exception of a type in exceptions is raised within the block:\n",
        "– Catches the exception.\n",
        "– If the retry count is not exhausted, waits for delay seconds, increments the retry count, and re-executes the code block from the\n",
        "beginning of the with block.\n",
        "– If retries are exhausted, re-raises the last caught exception.\n",
        "• If the code block completes successfully without exceptions, the context\n",
        "manager exits normally."
      ],
      "metadata": {
        "id": "WBHPA6W1-JJb"
      }
    },
    {
      "cell_type": "code",
      "source": [
        "class Retry:\n",
        "    def __init__(self, max_retries: int = 3, delay: int = 1, exceptions: tuple = (Exception,)) -> None:\n",
        "        self.max_retries = max_retries\n",
        "        self.delay = delay\n",
        "        self.exceptions = exceptions\n",
        "\n",
        "    def __enter__(self) -> \"Retry\":\n",
        "        return self\n",
        "\n",
        "    def run(self, func, *args, **kwargs):\n",
        "        attempts = 0\n",
        "        while attempts < self.max_retries:\n",
        "            try:\n",
        "                return func(*args, **kwargs)\n",
        "            except self.exceptions as e:\n",
        "                print(\"Attempt\", attempts + 1)\n",
        "                attempts += 1\n",
        "                if attempts >= self.max_retries:\n",
        "                    raise\n",
        "                time.sleep(self.delay)\n",
        "\n",
        "    def __exit__(self, exc_type, exc_value, traceback) -> bool:\n",
        "        # Do not suppress exceptions not handled by run()\n",
        "        return False"
      ],
      "metadata": {
        "id": "StqtkolfXSeg"
      },
      "execution_count": 29,
      "outputs": []
    },
    {
      "cell_type": "markdown",
      "source": [
        "## Testing Problem 6"
      ],
      "metadata": {
        "id": "5Woo0ans-Seh"
      }
    },
    {
      "cell_type": "code",
      "source": [
        "import random\n",
        "\n",
        "def flaky_operation() -> None:\n",
        "    if random.random() < 0.8:  # 80% chance to fail\n",
        "        raise ValueError(\"Operation failed!\")\n",
        "    print(\"Operation successful.\")\n",
        "\n",
        "try:\n",
        "    with Retry(max_retries=3, delay=2, exceptions=(ValueError,)) as retry:\n",
        "        retry.run(flaky_operation)\n",
        "except ValueError as e:\n",
        "    print(e)\n",
        "\n",
        "print(\"After Retry block.\")"
      ],
      "metadata": {
        "colab": {
          "base_uri": "https://localhost:8080/"
        },
        "id": "WIrla9Pc-VyG",
        "outputId": "9b7e3827-2f4e-4101-d962-3bf1f5f2b8e3"
      },
      "execution_count": 32,
      "outputs": [
        {
          "output_type": "stream",
          "name": "stdout",
          "text": [
            "Attempt 1\n",
            "Attempt 2\n",
            "Attempt 3\n",
            "Operation failed!\n",
            "After Retry block.\n"
          ]
        }
      ]
    },
    {
      "cell_type": "code",
      "source": [
        "try:\n",
        "    with Retry(max_retries=3, delay=2, exceptions=(ValueError,)) as retry:\n",
        "        retry.run(flaky_operation)\n",
        "except ValueError as e:\n",
        "    print(e)\n",
        "\n",
        "print(\"After Retry block.\")"
      ],
      "metadata": {
        "colab": {
          "base_uri": "https://localhost:8080/"
        },
        "id": "IUE5bxBD_nD0",
        "outputId": "cdf271ff-656c-44e2-9af6-87c259560d7a"
      },
      "execution_count": 34,
      "outputs": [
        {
          "output_type": "stream",
          "name": "stdout",
          "text": [
            "Attempt 1\n",
            "Attempt 2\n",
            "Operation successful.\n",
            "After Retry block.\n"
          ]
        }
      ]
    },
    {
      "cell_type": "markdown",
      "source": [
        "# Problem 7: File System and Structural Pattern Matching"
      ],
      "metadata": {
        "id": "9bvzJwJnYPM-"
      }
    },
    {
      "cell_type": "markdown",
      "source": [
        "Given a recursive data structure representing a file system where directories\n",
        "contain files or subdirectories. Using structural pattern matching implement a\n",
        "function that lists all the file names at any depth in the directory tree.\n",
        "class File:\n",
        "pass\n",
        "class Directory:\n",
        "pass\n",
        "• A File has a name attribute, representing the file’s name.\n",
        "• A Directory has a name and contents, which can be a mix of File\n",
        "objects and other Directory objects."
      ],
      "metadata": {
        "id": "GIOsFD9u_w5X"
      }
    },
    {
      "cell_type": "code",
      "source": [
        "class File:\n",
        "    __match_args__ = (\"name\",)\n",
        "    def __init__(self, name: str) -> None:\n",
        "        self.name = name\n",
        "\n",
        "    def __str__(self) -> str:\n",
        "        return f'File({self.name})'\n",
        "\n",
        "\n",
        "class Directory:\n",
        "    __match_args__ = (\"name\", \"contents\")\n",
        "    def __init__(self, name: str, contents: List[Union[File, \"Directory\"]]) -> None:\n",
        "        self.name = name\n",
        "        self.contents = contents\n",
        "\n",
        "    def __str__(self) -> str:\n",
        "        return f'Directory({self.name})'\n",
        "\n",
        "def get_file_names(directory: Directory) -> list[str]:\n",
        "    file_names: list[str] = []\n",
        "    for item in directory.contents:\n",
        "        match item:\n",
        "            case File(name=name):\n",
        "                file_names.append(name)\n",
        "            case Directory(name=_, contents=_):\n",
        "                file_names.extend(get_file_names(item))\n",
        "    return file_names"
      ],
      "metadata": {
        "id": "iuQKZPfLXU9O"
      },
      "execution_count": 36,
      "outputs": []
    },
    {
      "cell_type": "markdown",
      "source": [
        "## Testing Problem 7"
      ],
      "metadata": {
        "id": "Lme-Mjsz_1Wr"
      }
    },
    {
      "cell_type": "code",
      "source": [
        "root = Directory(\"root\", [\n",
        "    File(\"file1.txt\"),\n",
        "    Directory(\"subdir1\", [\n",
        "        File(\"file2.txt\"),\n",
        "        Directory(\"subdir2\", [\n",
        "            File(\"file3.txt\")\n",
        "        ])\n",
        "    ]),\n",
        "    File(\"file4.txt\")\n",
        "])\n",
        "\n",
        "print(get_file_names(root))  # Expected: ['file1.txt', 'file2.txt', 'file3.txt', 'file4.txt']"
      ],
      "metadata": {
        "colab": {
          "base_uri": "https://localhost:8080/"
        },
        "id": "3UlR6cO5X8wb",
        "outputId": "b5fac96f-86f0-42b0-a898-a9cc70a9c2d0"
      },
      "execution_count": 37,
      "outputs": [
        {
          "output_type": "stream",
          "name": "stdout",
          "text": [
            "['file1.txt', 'file2.txt', 'file3.txt', 'file4.txt']\n"
          ]
        }
      ]
    }
  ]
}
