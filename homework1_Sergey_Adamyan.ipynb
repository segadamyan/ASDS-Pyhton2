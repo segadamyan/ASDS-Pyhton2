{
  "nbformat": 4,
  "nbformat_minor": 0,
  "metadata": {
    "colab": {
      "provenance": []
    },
    "kernelspec": {
      "name": "python3",
      "display_name": "Python 3"
    },
    "language_info": {
      "name": "python"
    }
  },
  "cells": [
    {
      "cell_type": "code",
      "execution_count": 32,
      "metadata": {
        "colab": {
          "base_uri": "https://localhost:8080/"
        },
        "id": "DbOg_KWSvU3g",
        "outputId": "c4eea225-fee6-4739-d5fd-b8f4b2e577a2"
      },
      "outputs": [
        {
          "output_type": "stream",
          "name": "stdout",
          "text": [
            "2\n",
            "10\n"
          ]
        }
      ],
      "source": [
        "# Problem 1\n",
        "# Write a function make_polynomial(*coefficients) that takes an arbitrary\n",
        "# number of coefficients and returns a function representing the polynomial. The\n",
        "# returned function should compute the polynomial’s value when called with a\n",
        "# specific x.\n",
        "def make_polynomial(*coefficients):\n",
        "    def polynomial(x):\n",
        "        return sum(coef * (x ** i) for i, coef in enumerate(coefficients))\n",
        "\n",
        "    return polynomial\n",
        "\n",
        "poly = make_polynomial(2, 3, 5) # Represents 2 + 3x + 5x^2\n",
        "print(poly(0)) # 2\n",
        "print(poly(1)) # 10"
      ]
    },
    {
      "cell_type": "code",
      "source": [
        "# Problem 2\n",
        "# Write a function that calculates the n-th derivative of a polynomial. The poly-\n",
        "# nomial can be represented as a list of coefficients, where the index corresponds\n",
        "# to the power of x. For example, [3, 1, 2] represents the polynomial 3 + x + 2x2\n",
        "# .\n",
        "def nth_derivative(coefficients, n):\n",
        "    for _ in range(n):\n",
        "        coefficients = [i * coefficients[i] for i in range(1, len(coefficients))]\n",
        "\n",
        "    return coefficients if coefficients else [0]\n",
        "\n",
        "print(nth_derivative([3, 1, 2], 1)) # [1, 4] (Derivative of 3 + x + 2x^2 is 4x)\n",
        "print(nth_derivative([3, 1, 2], 2)) # [4] (Second derivative is 4)\n",
        "print(nth_derivative([3, 1, 2], 3)) # [0] (Third derivative is 0)"
      ],
      "metadata": {
        "colab": {
          "base_uri": "https://localhost:8080/"
        },
        "id": "fXdQ6ueRvh4_",
        "outputId": "8c16482c-14f3-4cf3-ada5-41f83b827b76"
      },
      "execution_count": 33,
      "outputs": [
        {
          "output_type": "stream",
          "name": "stdout",
          "text": [
            "[1, 4]\n",
            "[4]\n",
            "[0]\n"
          ]
        }
      ]
    },
    {
      "cell_type": "code",
      "source": [
        "# Problem 3 [10 points]\n",
        "# Write a function matrix_power(matrix, n) that computes the n-th power of\n",
        "# a given square matrix.\n",
        "# • Assume n is a non-negative integer.\n",
        "# • If n = 0, return the identity matrix of the same size.\n",
        "# • If n = 1, return the matrix itself.\n",
        "# • For n > 1, compute the matrix product repeatedly.\n",
        "def matrix_power(matrix, n):\n",
        "    size = len(matrix)\n",
        "    identity = [[1 if i == j else 0 for j in range(size)] for i in range(size)]\n",
        "\n",
        "    if n == 0:\n",
        "        return identity\n",
        "    elif n == 1:\n",
        "        return matrix\n",
        "\n",
        "    result = matrix\n",
        "    for _ in range(n - 1):\n",
        "        result = [[sum(result[i][k] * matrix[k][j] for k in range(size)) for j in range(size)] for i in range(size)]\n",
        "\n",
        "    return result\n",
        "\n",
        "matrix = [\n",
        "[1, 2],\n",
        "[3, 4]\n",
        "]\n",
        "print(matrix_power(matrix, 3)) # [[37, 54], [81, 118]]\n",
        "print(matrix_power(matrix, 0)) # [[1, 0], [0, 1]]"
      ],
      "metadata": {
        "colab": {
          "base_uri": "https://localhost:8080/"
        },
        "id": "i3yGAxsLwmpf",
        "outputId": "eb2862b7-f620-4f9c-e67e-9d9e02d745aa"
      },
      "execution_count": 34,
      "outputs": [
        {
          "output_type": "stream",
          "name": "stdout",
          "text": [
            "[[37, 54], [81, 118]]\n",
            "[[1, 0], [0, 1]]\n"
          ]
        }
      ]
    },
    {
      "cell_type": "code",
      "source": [
        "# Problem 4 [10 points]\n",
        "# Write a function compose(*funcs) that takes an arbitrary number of single-\n",
        "# argument functions and returns a new function that is the composition of the\n",
        "# input functions. The composed function should apply each function in the order\n",
        "# they were passed.\n",
        "\n",
        "def double(x):\n",
        "  return x * 2\n",
        "\n",
        "def increment(x):\n",
        "  return x + 1\n",
        "\n",
        "def square(x):\n",
        "  return x * x\n",
        "def compose(*funcs):\n",
        "    def composed_function(x):\n",
        "        result = x\n",
        "        for func in reversed(funcs):\n",
        "            result = func(result)\n",
        "        return result\n",
        "    return composed_function\n",
        "\n",
        "composed = compose(square, increment, double)\n",
        "print(composed(3)) # square(increment(double(3))) = 49"
      ],
      "metadata": {
        "colab": {
          "base_uri": "https://localhost:8080/"
        },
        "id": "uXWWy-SPxOBL",
        "outputId": "c28645e2-54fd-4d63-c229-d5bc2326ff9f"
      },
      "execution_count": 35,
      "outputs": [
        {
          "output_type": "stream",
          "name": "stdout",
          "text": [
            "49\n"
          ]
        }
      ]
    },
    {
      "cell_type": "code",
      "source": [
        "# Problem 5 [10 points]\n",
        "# Write a Python recursive function to generate all possible combinations of a set\n",
        "# of elements.\n",
        "# Note: This will be your implementation of itertools.combinations function.\n",
        "# Note: It is not required, but this function can be a generator function.\n",
        "\n",
        "\n",
        "def generate_combinations(elements, k, start=0, current=[]):\n",
        "    \"\"\"\n",
        "    Recursively generates all possible combinations of k elements from the list.\n",
        "\n",
        "    :param elements: List of elements to choose from.\n",
        "    :param k: Number of elements in each combination.\n",
        "    :param start: Starting index for combinations.\n",
        "    :param current: Current combination being constructed.\n",
        "    :yield: A tuple representing one valid combination.\n",
        "    \"\"\"\n",
        "    if len(current) == k:\n",
        "        yield tuple(current)\n",
        "        return\n",
        "\n",
        "    for i in range(start, len(elements)):\n",
        "        yield from generate_combinations(elements, k, i + 1, current + [elements[i]])\n",
        "\n",
        "\n",
        "elements = [1, 2, 3, 4]\n",
        "k = 3\n",
        "combinations = generate_combinations(elements, k)\n",
        "for i in combinations:\n",
        "    print(i)\n",
        "# [(1, 2, 3), (1, 2, 4), (1, 3, 4), (2, 3, 4)]"
      ],
      "metadata": {
        "colab": {
          "base_uri": "https://localhost:8080/"
        },
        "id": "Pd5Yfkp9xrj6",
        "outputId": "cc795665-43f0-4550-b992-927751ee28e8"
      },
      "execution_count": 36,
      "outputs": [
        {
          "output_type": "stream",
          "name": "stdout",
          "text": [
            "(1, 2, 3)\n",
            "(1, 2, 4)\n",
            "(1, 3, 4)\n",
            "(2, 3, 4)\n"
          ]
        }
      ]
    },
    {
      "cell_type": "code",
      "source": [
        "# Problem 6 [10 points]\n",
        "# A perfect number is a positive integer that is equal to the sum of its positive\n",
        "# divisors, excluding the number itself. For example, 6 is a perfect number.\n",
        "# Write a Python generator function that generates all the perfect numbers up to\n",
        "# a given limit.\n",
        "\n",
        "\n",
        "def generate_perfect_numbers(limit):\n",
        "    for num in range(6, limit + 1):\n",
        "        divisor_sum = 1\n",
        "        for i in range(2, int(num**0.5) + 1):\n",
        "            if num % i == 0:\n",
        "                divisor_sum += i\n",
        "                if i * i != num:\n",
        "                    divisor_sum += num // i\n",
        "        if divisor_sum == num:\n",
        "            yield num\n",
        "\n",
        "for num in generate_perfect_numbers(100):\n",
        "  print(num, end=\" \") # 6 28"
      ],
      "metadata": {
        "colab": {
          "base_uri": "https://localhost:8080/"
        },
        "id": "Y9b8hepSyfp8",
        "outputId": "f87edaa0-1e83-4226-9c67-e4a42e6225ad"
      },
      "execution_count": 37,
      "outputs": [
        {
          "output_type": "stream",
          "name": "stdout",
          "text": [
            "6 28 "
          ]
        }
      ]
    },
    {
      "cell_type": "code",
      "source": [
        "# Problem 7 [10 points]\n",
        "# An Armstrong number is a number that is the sum of its own digits each raised\n",
        "# to the power of the number of digits. For example, 153 is an Armstrong number\n",
        "# as 153 = 13 + 53 + 33\n",
        "# .\n",
        "# Write a Python generator function that generates all the Armstrong numbers\n",
        "# up to a given limit.\n",
        "\n",
        "\n",
        "def generate_armstrong_numbers(limit):\n",
        "    for num in range(1, limit + 1):\n",
        "        num_str = str(num)\n",
        "        num_digits = len(num_str)\n",
        "        sum_of_powers = sum(int(digit) ** num_digits for digit in num_str)\n",
        "        if sum_of_powers == num:\n",
        "            yield num\n",
        "\n",
        "for num in generate_armstrong_numbers(1000):\n",
        "  print(num, end=\" \") # 1 2 3 4 5 6 7 8 9 153 370 371 407"
      ],
      "metadata": {
        "colab": {
          "base_uri": "https://localhost:8080/"
        },
        "id": "i8zY2n88yoXM",
        "outputId": "90695fdd-e211-446c-9d15-f75a33eb88ab"
      },
      "execution_count": 38,
      "outputs": [
        {
          "output_type": "stream",
          "name": "stdout",
          "text": [
            "1 2 3 4 5 6 7 8 9 153 370 371 407 "
          ]
        }
      ]
    },
    {
      "cell_type": "code",
      "source": [
        "# prompt: Problem 8 [10 points]\n",
        "# Note: The following problem can be solved using generator functions in the\n",
        "# Python standard library.\n",
        "# Write a Python function that takes a list of numbers and returns a list of all\n",
        "# the triples of numbers in the list that form a Pythagorean triplet.\n",
        "\n",
        "def pythagorean_triplets(numbers):\n",
        "    triplets = []\n",
        "    for a in numbers:\n",
        "        for b in numbers:\n",
        "            for c in numbers:\n",
        "                if a < b < c and a**2 + b**2 == c**2:\n",
        "                    triplets.append((a, b, c))\n",
        "    return triplets\n",
        "\n",
        "print(pythagorean_triplets([3, 4, 5, 6, 7, 8, 9, 10])) # [(3, 4, 5), (6, 8, 10)]"
      ],
      "metadata": {
        "colab": {
          "base_uri": "https://localhost:8080/"
        },
        "id": "2wseuAvsyxOP",
        "outputId": "6b37c90a-7a00-4956-eb09-32c7bbd61922"
      },
      "execution_count": 39,
      "outputs": [
        {
          "output_type": "stream",
          "name": "stdout",
          "text": [
            "[(3, 4, 5), (6, 8, 10)]\n"
          ]
        }
      ]
    },
    {
      "cell_type": "code",
      "source": [
        "# Problem 9 [10 points]\n",
        "# Write a Python decorator function that caches the output of a function. It\n",
        "# should return the cached value if the function is called again with the same\n",
        "# arguments. Provide an example usage of the decorator.\n",
        "\n",
        "def cache(func):\n",
        "    cache_dict = {}\n",
        "    def wrapper(*args):\n",
        "        if args in cache_dict:\n",
        "            return cache_dict[args]\n",
        "        else:\n",
        "            result = func(*args)\n",
        "            cache_dict[args] = result\n",
        "            return result\n",
        "    return wrapper\n",
        "\n",
        "@cache\n",
        "def fibonacci(n):\n",
        "    if n <= 1:\n",
        "        return n\n",
        "    else:\n",
        "        return fibonacci(n-1) + fibonacci(n-2)\n",
        "\n",
        "print(fibonacci(10)) # 55\n",
        "print(fibonacci(10)) # 55 (this is a cached value)"
      ],
      "metadata": {
        "colab": {
          "base_uri": "https://localhost:8080/"
        },
        "id": "TwWxi_zVziZp",
        "outputId": "d112b6ab-3289-4721-e73a-33fcee3b40f5"
      },
      "execution_count": 40,
      "outputs": [
        {
          "output_type": "stream",
          "name": "stdout",
          "text": [
            "55\n",
            "55\n"
          ]
        }
      ]
    },
    {
      "cell_type": "code",
      "source": [
        "# Problem 10 [10 points]\n",
        "# Write a Python decorator function that limits the number of times a function\n",
        "# can be called. Provide an example usage of the decorator.\n",
        "\n",
        "def limit_calls(max_calls):\n",
        "    def decorator(func):\n",
        "        num_calls = 0\n",
        "        def wrapper(*args, **kwargs):\n",
        "            nonlocal num_calls\n",
        "            if num_calls < max_calls:\n",
        "                num_calls += 1\n",
        "                return func(*args, **kwargs)\n",
        "            else:\n",
        "                print(f\"Function `{func.__name__}` can only be called {max_calls} times.\")\n",
        "        return wrapper\n",
        "    return decorator\n",
        "\n",
        "@limit_calls(3)\n",
        "def greet():\n",
        "    print(\"Hello world!\")\n",
        "\n",
        "greet()\n",
        "greet()\n",
        "greet()\n",
        "greet()\n"
      ],
      "metadata": {
        "colab": {
          "base_uri": "https://localhost:8080/"
        },
        "id": "tUoy0vXIzET1",
        "outputId": "3af53bbf-867f-4a58-938b-8e7f22377d2f"
      },
      "execution_count": 41,
      "outputs": [
        {
          "output_type": "stream",
          "name": "stdout",
          "text": [
            "Hello world!\n",
            "Hello world!\n",
            "Hello world!\n",
            "Function `greet` can only be called 3 times.\n"
          ]
        }
      ]
    },
    {
      "cell_type": "code",
      "source": [],
      "metadata": {
        "id": "gy9EjHPOzYyJ"
      },
      "execution_count": 41,
      "outputs": []
    }
  ]
}